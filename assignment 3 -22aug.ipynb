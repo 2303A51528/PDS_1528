{
  "nbformat": 4,
  "nbformat_minor": 0,
  "metadata": {
    "colab": {
      "provenance": [],
      "authorship_tag": "ABX9TyNApZMzwlgOnYLAhpFSnBzJ",
      "include_colab_link": true
    },
    "kernelspec": {
      "name": "python3",
      "display_name": "Python 3"
    },
    "language_info": {
      "name": "python"
    }
  },
  "cells": [
    {
      "cell_type": "markdown",
      "metadata": {
        "id": "view-in-github",
        "colab_type": "text"
      },
      "source": [
        "<a href=\"https://colab.research.google.com/github/2303A51528/PDS_1528/blob/main/assignment%203%20-22aug.ipynb\" target=\"_parent\"><img src=\"https://colab.research.google.com/assets/colab-badge.svg\" alt=\"Open In Colab\"/></a>"
      ]
    },
    {
      "cell_type": "code",
      "execution_count": 2,
      "metadata": {
        "colab": {
          "base_uri": "https://localhost:8080/"
        },
        "id": "ydvsJRCz2ujD",
        "outputId": "f84aa3e9-4b83-48e8-d986-576443318146"
      },
      "outputs": [
        {
          "output_type": "stream",
          "name": "stdout",
          "text": [
            "2D Array:\n",
            " [[1 2 3]\n",
            " [4 5 6]]\n",
            "1D Array:\n",
            " [10 20 30]\n",
            "2D + 1D Broadcasting:\n",
            " [[11 22 33]\n",
            " [14 25 36]]\n",
            "Shapes -> 2D: (2, 3) , 1D: (3,)\n",
            "\n",
            "3D Array shape: (2, 3, 4)\n",
            "Scalar: 5\n",
            "3D + Scalar Broadcasting:\n",
            " [[[6. 6. 6. 6.]\n",
            "  [6. 6. 6. 6.]\n",
            "  [6. 6. 6. 6.]]\n",
            "\n",
            " [[6. 6. 6. 6.]\n",
            "  [6. 6. 6. 6.]\n",
            "  [6. 6. 6. 6.]]]\n",
            "\n",
            "Original 2D:\n",
            " [[1 2 3]\n",
            " [4 5 6]]\n",
            "Column Vector Shape: (2, 1)\n",
            "Broadcasting with newaxis:\n",
            " [[2 3 4]\n",
            " [6 7 8]]\n",
            "\n",
            "Invalid Broadcasting Error: operands could not be broadcast together with shapes (2,3) (4,) \n"
          ]
        }
      ],
      "source": [
        "import numpy as np\n",
        "\n",
        "arr2d = np.array([[1, 2, 3],[4, 5, 6]])\n",
        "arr1d = np.array([10, 20, 30])\n",
        "print(\"2D Array:\\n\", arr2d)\n",
        "print(\"1D Array:\\n\", arr1d)\n",
        "print(\"2D + 1D Broadcasting:\\n\", arr2d + arr1d)\n",
        "\n",
        "print(\"Shapes -> 2D:\", arr2d.shape, \", 1D:\", arr1d.shape)\n",
        "\n",
        "arr3d = np.ones((2, 3, 4))\n",
        "scalar = 5\n",
        "print(\"\\n3D Array shape:\", arr3d.shape)\n",
        "print(\"Scalar:\", scalar)\n",
        "print(\"3D + Scalar Broadcasting:\\n\", arr3d + scalar)\n",
        "\n",
        "arr_col = np.array([1, 2])[:, np.newaxis]\n",
        "print(\"\\nOriginal 2D:\\n\", arr2d)\n",
        "print(\"Column Vector Shape:\", arr_col.shape)\n",
        "print(\"Broadcasting with newaxis:\\n\", arr2d + arr_col)\n",
        "\n",
        "try:\n",
        "    invalid = np.array([1, 2, 3, 4])\n",
        "    print(\"\\nInvalid Broadcasting Attempt:\\n\", arr2d + invalid)\n",
        "except ValueError as e:\n",
        "    print(\"\\nInvalid Broadcasting Error:\", e)\n"
      ]
    },
    {
      "cell_type": "code",
      "source": [
        "'''2'''"
      ],
      "metadata": {
        "colab": {
          "base_uri": "https://localhost:8080/",
          "height": 36
        },
        "id": "psGDao4R23pk",
        "outputId": "244cb0f6-77af-4443-c0fd-27b170fab564"
      },
      "execution_count": 5,
      "outputs": [
        {
          "output_type": "execute_result",
          "data": {
            "text/plain": [
              "'2'"
            ],
            "application/vnd.google.colaboratory.intrinsic+json": {
              "type": "string"
            }
          },
          "metadata": {},
          "execution_count": 5
        }
      ]
    },
    {
      "cell_type": "code",
      "source": [
        "import numpy as np\n",
        "\n",
        "arr = np.array([[4, -9, 16],[25, -36, 49]])\n",
        "\n",
        "print(\"Original Array:\\n\", arr)\n",
        "\n",
        "squared = np.square(arr)\n",
        "print(\"\\nSquared:\\n\", squared)\n",
        "\n",
        "sqrted = np.sqrt(np.abs(arr))\n",
        "print(\"\\nSquare Root (absolute values):\\n\", sqrted)\n",
        "\n",
        "replaced = np.where(arr < 0, 0, arr)\n",
        "print(\"\\nNegative Replaced with 0:\\n\", replaced)\n",
        "\n",
        "count_gt10 = np.sum(arr > 10)\n",
        "print(\"\\nCount of elements > 10:\", count_gt10)\n",
        "\n",
        "mask = arr > 10\n",
        "print(\"\\nMask for condition > 10:\\n\", mask)\n",
        "\n",
        "print(\"\\nArray elements > 10:\\n\", arr[mask])\n"
      ],
      "metadata": {
        "colab": {
          "base_uri": "https://localhost:8080/"
        },
        "id": "Z9WC1LpU26MC",
        "outputId": "cb05debd-d332-400f-c748-4effae86b264"
      },
      "execution_count": 4,
      "outputs": [
        {
          "output_type": "stream",
          "name": "stdout",
          "text": [
            "Original Array:\n",
            " [[  4  -9  16]\n",
            " [ 25 -36  49]]\n",
            "\n",
            "Squared:\n",
            " [[  16   81  256]\n",
            " [ 625 1296 2401]]\n",
            "\n",
            "Square Root (absolute values):\n",
            " [[2. 3. 4.]\n",
            " [5. 6. 7.]]\n",
            "\n",
            "Negative Replaced with 0:\n",
            " [[ 4  0 16]\n",
            " [25  0 49]]\n",
            "\n",
            "Count of elements > 10: 3\n",
            "\n",
            "Mask for condition > 10:\n",
            " [[False False  True]\n",
            " [ True False  True]]\n",
            "\n",
            "Array elements > 10:\n",
            " [16 25 49]\n"
          ]
        }
      ]
    }
  ]
}