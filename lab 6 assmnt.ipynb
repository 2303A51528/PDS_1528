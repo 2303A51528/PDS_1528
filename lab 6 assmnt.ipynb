{
  "nbformat": 4,
  "nbformat_minor": 0,
  "metadata": {
    "colab": {
      "provenance": [],
      "authorship_tag": "ABX9TyOjXwUrm0DRc4VHoq1lMb91",
      "include_colab_link": true
    },
    "kernelspec": {
      "name": "python3",
      "display_name": "Python 3"
    },
    "language_info": {
      "name": "python"
    }
  },
  "cells": [
    {
      "cell_type": "markdown",
      "metadata": {
        "id": "view-in-github",
        "colab_type": "text"
      },
      "source": [
        "<a href=\"https://colab.research.google.com/github/2303A51528/PDS_1528/blob/main/lab%206%20assmnt.ipynb\" target=\"_parent\"><img src=\"https://colab.research.google.com/assets/colab-badge.svg\" alt=\"Open In Colab\"/></a>"
      ]
    },
    {
      "cell_type": "code",
      "source": [
        "import pandas as pd\n",
        "import numpy as np\n",
        "\n",
        "# Create a sample DataFrame with patient ages, including outliers\n",
        "data = {'patient_id': np.arange(1001, 1016),\n",
        "        'age': [35, 42, 58, 65, 71, 28, 90, 150, 48, 55, -5, 62, 78, 85, 92]}\n",
        "hospital_df = pd.DataFrame(data)\n",
        "\n",
        "print(\"Original Dataset (before cleaning):\")\n",
        "print(hospital_df)"
      ],
      "metadata": {
        "colab": {
          "base_uri": "https://localhost:8080/"
        },
        "id": "JQD0YyhUbQ8n",
        "outputId": "c77b2c57-2d99-40a3-c2ff-5ab4c141b1b3"
      },
      "execution_count": 3,
      "outputs": [
        {
          "output_type": "stream",
          "name": "stdout",
          "text": [
            "Original Dataset (before cleaning):\n",
            "    patient_id  age\n",
            "0         1001   35\n",
            "1         1002   42\n",
            "2         1003   58\n",
            "3         1004   65\n",
            "4         1005   71\n",
            "5         1006   28\n",
            "6         1007   90\n",
            "7         1008  150\n",
            "8         1009   48\n",
            "9         1010   55\n",
            "10        1011   -5\n",
            "11        1012   62\n",
            "12        1013   78\n",
            "13        1014   85\n",
            "14        1015   92\n"
          ]
        }
      ]
    },
    {
      "cell_type": "code",
      "source": [],
      "metadata": {
        "id": "5Qck9Fr5czEK"
      },
      "execution_count": null,
      "outputs": []
    },
    {
      "cell_type": "code",
      "source": [
        "import pandas as pd\n",
        "import numpy as np\n",
        "\n",
        "# Create a sample DataFrame\n",
        "data = {'income_k': [50, 75, 120, 35, 200, 90]}\n",
        "df = pd.DataFrame(data)\n",
        "\n",
        "# Calculate mean and standard deviation\n",
        "mean_val = df['income_k'].mean()\n",
        "std_dev = df['income_k'].std()\n",
        "\n",
        "# Apply the Z-score formula\n",
        "df['income_zscore'] = (df['income_k'] - mean_val) / std_dev\n",
        "\n",
        "print(\"Original Data and Manually Calculated Z-score Standardized Data:\")\n",
        "print(df)"
      ],
      "metadata": {
        "colab": {
          "base_uri": "https://localhost:8080/"
        },
        "id": "_qx-pztbbTJK",
        "outputId": "95837b18-d394-4a11-f641-1aadc087130a"
      },
      "execution_count": 4,
      "outputs": [
        {
          "output_type": "stream",
          "name": "stdout",
          "text": [
            "Original Data and Manually Calculated Z-score Standardized Data:\n",
            "   income_k  income_zscore\n",
            "0        50      -0.756329\n",
            "1        75      -0.336146\n",
            "2       120       0.420183\n",
            "3        35      -1.008439\n",
            "4       200       1.764768\n",
            "5        90      -0.084037\n"
          ]
        }
      ]
    },
    {
      "cell_type": "code",
      "source": [
        "import pandas as pd\n",
        "import numpy as np\n",
        "\n",
        "# Create a sample DataFrame\n",
        "data = {'income_k': [50, 75, 120, 35, 200, 90]}\n",
        "df = pd.DataFrame(data)\n",
        "\n",
        "# Calculate min and max\n",
        "min_val = df['income_k'].min()\n",
        "max_val = df['income_k'].max()\n",
        "\n",
        "# Apply the Min-Max formula\n",
        "df['income_minmax'] = (df['income_k'] - min_val) / (max_val - min_val)\n",
        "\n",
        "print(\"Original Data and Manually Calculated Min-Max Normalized Data:\")\n",
        "print(df)"
      ],
      "metadata": {
        "colab": {
          "base_uri": "https://localhost:8080/"
        },
        "id": "gIaXQWARc0cv",
        "outputId": "c38f5860-5ac7-4530-ffec-0b8960d668d2"
      },
      "execution_count": 6,
      "outputs": [
        {
          "output_type": "stream",
          "name": "stdout",
          "text": [
            "Original Data and Manually Calculated Min-Max Normalized Data:\n",
            "   income_k  income_minmax\n",
            "0        50       0.090909\n",
            "1        75       0.242424\n",
            "2       120       0.515152\n",
            "3        35       0.000000\n",
            "4       200       1.000000\n",
            "5        90       0.333333\n"
          ]
        }
      ]
    },
    {
      "cell_type": "code",
      "source": [
        "import pandas as pd\n",
        "import numpy as np\n",
        "\n",
        "# Create a sample DataFrame\n",
        "data = {'income_k': [50, 75, 120, 35, 200, 90]}\n",
        "df = pd.DataFrame(data)\n",
        "\n",
        "# Calculate mean and standard deviation\n",
        "mean_val = df['income_k'].mean()\n",
        "std_dev = df['income_k'].std()\n",
        "\n",
        "# Apply the Z-score formula\n",
        "df['income_zscore'] = (df['income_k'] - mean_val) / std_dev\n",
        "\n",
        "print(\"Original Data and Manually Calculated Z-score Standardized Data:\")\n",
        "print(df)"
      ],
      "metadata": {
        "colab": {
          "base_uri": "https://localhost:8080/"
        },
        "id": "Q6DEvQ3bc1eQ",
        "outputId": "a6ec8e01-ca83-48e8-a9c0-8601427f8c9b"
      },
      "execution_count": 5,
      "outputs": [
        {
          "output_type": "stream",
          "name": "stdout",
          "text": [
            "Original Data and Manually Calculated Z-score Standardized Data:\n",
            "   income_k  income_zscore\n",
            "0        50      -0.756329\n",
            "1        75      -0.336146\n",
            "2       120       0.420183\n",
            "3        35      -1.008439\n",
            "4       200       1.764768\n",
            "5        90      -0.084037\n"
          ]
        }
      ]
    }
  ]
}