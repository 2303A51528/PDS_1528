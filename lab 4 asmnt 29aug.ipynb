{
  "nbformat": 4,
  "nbformat_minor": 0,
  "metadata": {
    "colab": {
      "provenance": [],
      "authorship_tag": "ABX9TyNksv7eyRdEC6CdbOE3ZM+1",
      "include_colab_link": true
    },
    "kernelspec": {
      "name": "python3",
      "display_name": "Python 3"
    },
    "language_info": {
      "name": "python"
    }
  },
  "cells": [
    {
      "cell_type": "markdown",
      "metadata": {
        "id": "view-in-github",
        "colab_type": "text"
      },
      "source": [
        "<a href=\"https://colab.research.google.com/github/2303A51528/PDS_1528/blob/main/lab%204%20asmnt%2029aug.ipynb\" target=\"_parent\"><img src=\"https://colab.research.google.com/assets/colab-badge.svg\" alt=\"Open In Colab\"/></a>"
      ]
    },
    {
      "cell_type": "code",
      "source": [
        "import pandas as pd\n",
        "\n",
        "# Step 1: Read the CSV file\n",
        "df = pd.read_csv(\"student_scores.csv\")\n",
        "\n",
        "print(\"Original Data:\")\n",
        "print(df)\n",
        "\n",
        "# Step 2: Fill missing values with column-wise average\n",
        "df_filled = df.fillna(df.mean(numeric_only=True))\n",
        "\n",
        "print(\"\\nData after filling missing values with column-wise averages:\")\n",
        "print(df_filled)\n",
        "\n",
        "# Step 3: Filter students who scored more than 75 in all subjects\n",
        "high_achievers = df_filled[\n",
        "    (df_filled['Math'] > 75) &\n",
        "    (df_filled['Science'] > 75) &\n",
        "    (df_filled['English'] > 75)\n",
        "]\n",
        "\n",
        "print(\"\\nHigh Achievers (all subjects > 75):\")\n",
        "print(high_achievers)\n",
        "\n",
        "# Step 4 (Optional): Save filtered results to a CSV\n",
        "high_achievers.to_csv(\"high_achievers.csv\", index=False)\n"
      ],
      "metadata": {
        "colab": {
          "base_uri": "https://localhost:8080/"
        },
        "id": "fxvILf5hKXd-",
        "outputId": "9f0a5c3f-16fa-49a5-f495-1f6c18e98b5e"
      },
      "execution_count": 6,
      "outputs": [
        {
          "output_type": "stream",
          "name": "stdout",
          "text": [
            "Original Data:\n",
            "   Student_ID     Name  Math  Science  English\n",
            "0         101    Alice  80.0     78.0     90.0\n",
            "1         102      Bob   NaN     70.0     65.0\n",
            "2         103  Charlie  85.0      NaN     88.0\n",
            "3         104    David  92.0     81.0     79.0\n",
            "4         105      Eva  74.0     77.0      NaN\n",
            "\n",
            "Data after filling missing values with column-wise averages:\n",
            "   Student_ID     Name   Math  Science  English\n",
            "0         101    Alice  80.00     78.0     90.0\n",
            "1         102      Bob  82.75     70.0     65.0\n",
            "2         103  Charlie  85.00     76.5     88.0\n",
            "3         104    David  92.00     81.0     79.0\n",
            "4         105      Eva  74.00     77.0     80.5\n",
            "\n",
            "High Achievers (all subjects > 75):\n",
            "   Student_ID     Name  Math  Science  English\n",
            "0         101    Alice  80.0     78.0     90.0\n",
            "2         103  Charlie  85.0     76.5     88.0\n",
            "3         104    David  92.0     81.0     79.0\n"
          ]
        }
      ]
    },
    {
      "cell_type": "code",
      "source": [
        "import pandas as pd\n",
        "\n",
        "# Step 1: Load dataset\n",
        "df = pd.read_csv(\"patients.csv\")\n",
        "\n",
        "print(\"Original Data:\")\n",
        "print(df)\n",
        "\n",
        "# Step 2: Replace missing Age values with median\n",
        "df['Age'] = df['Age'].fillna(df['Age'].median())\n",
        "\n",
        "print(\"\\nData after filling missing Age with median:\")\n",
        "print(df)\n",
        "\n",
        "# Step 3: Filter elderly female patients diagnosed with Diabetes\n",
        "elderly_female_diabetes = df[\n",
        "    (df['Gender'].str.lower() == 'female') &\n",
        "    (df['Age'] > 50) &\n",
        "    (df['Diagnosis'].str.lower() == 'diabetes')\n",
        "]\n",
        "\n",
        "print(\"\\nElderly Female Patients with Diabetes:\")\n",
        "print(elderly_female_diabetes)\n",
        "\n",
        "# Optional: Save results to CSV\n",
        "elderly_female_diabetes.to_csv(\"elderly_female_diabetes.csv\", index=False)\n"
      ],
      "metadata": {
        "colab": {
          "base_uri": "https://localhost:8080/"
        },
        "id": "9-PTjca4K7LY",
        "outputId": "dd4c2bcf-7729-4838-ff48-8f134b7a10cd"
      },
      "execution_count": 8,
      "outputs": [
        {
          "output_type": "stream",
          "name": "stdout",
          "text": [
            "Original Data:\n",
            "   Patient_ID     Name   Age  Gender     Diagnosis Admission_Date\n",
            "0         201    Alice  65.0  Female      Diabetes     2023-01-15\n",
            "1         202      Bob  70.0    Male  Hypertension     2023-02-10\n",
            "2         203  Charlie   NaN    Male      Diabetes     2023-03-05\n",
            "3         204    Diana  58.0  Female      Diabetes     2023-04-12\n",
            "4         205      Eva  45.0  Female        Asthma     2023-05-08\n",
            "5         206   Fatima   NaN  Female      Diabetes     2023-06-20\n",
            "\n",
            "Data after filling missing Age with median:\n",
            "   Patient_ID     Name   Age  Gender     Diagnosis Admission_Date\n",
            "0         201    Alice  65.0  Female      Diabetes     2023-01-15\n",
            "1         202      Bob  70.0    Male  Hypertension     2023-02-10\n",
            "2         203  Charlie  61.5    Male      Diabetes     2023-03-05\n",
            "3         204    Diana  58.0  Female      Diabetes     2023-04-12\n",
            "4         205      Eva  45.0  Female        Asthma     2023-05-08\n",
            "5         206   Fatima  61.5  Female      Diabetes     2023-06-20\n",
            "\n",
            "Elderly Female Patients with Diabetes:\n",
            "   Patient_ID    Name   Age  Gender Diagnosis Admission_Date\n",
            "0         201   Alice  65.0  Female  Diabetes     2023-01-15\n",
            "3         204   Diana  58.0  Female  Diabetes     2023-04-12\n",
            "5         206  Fatima  61.5  Female  Diabetes     2023-06-20\n"
          ]
        }
      ]
    }
  ]
}