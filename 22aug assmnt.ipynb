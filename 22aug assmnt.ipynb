{
  "nbformat": 4,
  "nbformat_minor": 0,
  "metadata": {
    "colab": {
      "provenance": [],
      "authorship_tag": "ABX9TyPV+lG2Lqu2hx9wAxO2Um6h",
      "include_colab_link": true
    },
    "kernelspec": {
      "name": "python3",
      "display_name": "Python 3"
    },
    "language_info": {
      "name": "python"
    }
  },
  "cells": [
    {
      "cell_type": "markdown",
      "metadata": {
        "id": "view-in-github",
        "colab_type": "text"
      },
      "source": [
        "<a href=\"https://colab.research.google.com/github/2303A51528/PDS_1528/blob/main/22aug%20assmnt.ipynb\" target=\"_parent\"><img src=\"https://colab.research.google.com/assets/colab-badge.svg\" alt=\"Open In Colab\"/></a>"
      ]
    },
    {
      "cell_type": "code",
      "execution_count": 1,
      "metadata": {
        "colab": {
          "base_uri": "https://localhost:8080/"
        },
        "id": "fbuw48EVabx8",
        "outputId": "ed21d96e-2ffd-4b17-f586-b0d2f1378617"
      },
      "outputs": [
        {
          "output_type": "stream",
          "name": "stdout",
          "text": [
            "Test Scores (4x4 Matrix):\n",
            " [[88 78 64 92]\n",
            " [57 70 88 68]\n",
            " [72 60 60 73]\n",
            " [85 89 73 52]]\n",
            "\n",
            "Row-wise Means: [80.5  70.75 66.25 74.75]\n",
            "Column-wise Means: [75.5  74.25 71.25 71.25]\n",
            "\n",
            "Standard Deviation: 12.214073593605043\n",
            "Variance: 149.18359375\n",
            "\n",
            "Global Max: 92 at index (np.int64(0), np.int64(3))\n",
            "Global Min: 52 at index (np.int64(3), np.int64(3))\n",
            "\n",
            "Row-wise Medians: [83. 69. 66. 79.]\n",
            "Column-wise Medians: [78.5 74.  68.5 70.5]\n",
            "Global Median: 72.5\n"
          ]
        }
      ],
      "source": [
        "import numpy as np\n",
        "\n",
        "# Generate a 4x4 array with test scores (values between 50-100 for realism)\n",
        "np.random.seed(42)  # for reproducibility\n",
        "scores = np.random.randint(50, 101, size=(4, 4))\n",
        "print(\"Test Scores (4x4 Matrix):\\n\", scores)\n",
        "\n",
        "# Row-wise and Column-wise Means\n",
        "row_means = np.mean(scores, axis=1)\n",
        "col_means = np.mean(scores, axis=0)\n",
        "\n",
        "print(\"\\nRow-wise Means:\", row_means)\n",
        "print(\"Column-wise Means:\", col_means)\n",
        "\n",
        "# Standard Deviation and Variance\n",
        "std_dev = np.std(scores)\n",
        "variance = np.var(scores)\n",
        "\n",
        "print(\"\\nStandard Deviation:\", std_dev)\n",
        "print(\"Variance:\", variance)\n",
        "\n",
        "# Global Max, Min and their Indices\n",
        "global_max = np.max(scores)\n",
        "global_min = np.min(scores)\n",
        "max_index = np.unravel_index(np.argmax(scores), scores.shape)\n",
        "min_index = np.unravel_index(np.argmin(scores), scores.shape)\n",
        "\n",
        "print(\"\\nGlobal Max:\", global_max, \"at index\", max_index)\n",
        "print(\"Global Min:\", global_min, \"at index\", min_index)\n",
        "\n",
        "# Median values\n",
        "row_medians = np.median(scores, axis=1)\n",
        "col_medians = np.median(scores, axis=0)\n",
        "global_median = np.median(scores)\n",
        "\n",
        "print(\"\\nRow-wise Medians:\", row_medians)\n",
        "print(\"Column-wise Medians:\", col_medians)\n",
        "print(\"Global Median:\", global_median)\n"
      ]
    }
  ]
}