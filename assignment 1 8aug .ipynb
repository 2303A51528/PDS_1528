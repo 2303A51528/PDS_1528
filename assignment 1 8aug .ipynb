{
  "nbformat": 4,
  "nbformat_minor": 0,
  "metadata": {
    "colab": {
      "provenance": [],
      "authorship_tag": "ABX9TyODKMjUko4+4f7Y5+CYkWZl",
      "include_colab_link": true
    },
    "kernelspec": {
      "name": "python3",
      "display_name": "Python 3"
    },
    "language_info": {
      "name": "python"
    }
  },
  "cells": [
    {
      "cell_type": "markdown",
      "metadata": {
        "id": "view-in-github",
        "colab_type": "text"
      },
      "source": [
        "<a href=\"https://colab.research.google.com/github/2303A51528/PDS_1528/blob/main/assignment%201%208aug%20.ipynb\" target=\"_parent\"><img src=\"https://colab.research.google.com/assets/colab-badge.svg\" alt=\"Open In Colab\"/></a>"
      ]
    },
    {
      "cell_type": "code",
      "execution_count": 2,
      "metadata": {
        "colab": {
          "base_uri": "https://localhost:8080/"
        },
        "id": "RoIYbFmNq8Hq",
        "outputId": "de5da01e-715f-40e4-d2d6-905279780601"
      },
      "outputs": [
        {
          "output_type": "stream",
          "name": "stdout",
          "text": [
            "Enter total number of people/items (n): 5\n",
            "Enter number of places (r): 2\n",
            "\n",
            "Step-by-Step for 5P2:\n",
            "Formula: 5P2 = n! / (n-r)!\n",
            "= 5! / (5-2)!\n",
            "= 5! / 3!\n",
            "= 120 / 6\n",
            "= 20\n",
            "\n",
            "Result: 5P2 = 20\n",
            "\n",
            "Examples:\n",
            "\n",
            "Step-by-Step for 5P3:\n",
            "Formula: 5P3 = n! / (n-r)!\n",
            "= 5! / (5-3)!\n",
            "= 5! / 2!\n",
            "= 120 / 2\n",
            "= 60\n",
            "5P3 = 60\n",
            "\n",
            "Step-by-Step for 6P2:\n",
            "Formula: 6P2 = n! / (n-r)!\n",
            "= 6! / (6-2)!\n",
            "= 6! / 4!\n",
            "= 720 / 24\n",
            "= 30\n",
            "6P2 = 30\n"
          ]
        }
      ],
      "source": [
        "def factorial(n):\n",
        "    if n == 0 or n == 1:\n",
        "        return 1\n",
        "    else:\n",
        "        return n * factorial(n - 1)\n",
        "\n",
        "def permutations(n, r):\n",
        "    if n < r:\n",
        "        return \"Invalid input! (n must be >= r)\"\n",
        "\n",
        "    print(f\"\\nStep-by-Step for {n}P{r}:\")\n",
        "    print(f\"Formula: {n}P{r} = n! / (n-r)!\")\n",
        "    print(f\"= {n}! / ({n}-{r})!\")\n",
        "    print(f\"= {n}! / {n-r}!\")\n",
        "\n",
        "    num = factorial(n)\n",
        "    den = factorial(n - r)\n",
        "    print(f\"= {num} / {den}\")\n",
        "    print(f\"= {num // den}\")\n",
        "\n",
        "    return num // den\n",
        "\n",
        "if __name__ == \"__main__\":\n",
        "    n = int(input(\"Enter total number of people/items (n): \"))\n",
        "    r = int(input(\"Enter number of places (r): \"))\n",
        "\n",
        "    result = permutations(n, r)\n",
        "    print(f\"\\nResult: {n}P{r} = {result}\")\n",
        "\n",
        "    print(\"\\nExamples:\")\n",
        "    print(f\"5P3 = {permutations(5,3)}\")\n",
        "    print(f\"6P2 = {permutations(6,2)}\")\n"
      ]
    },
    {
      "cell_type": "code",
      "source": [
        "'''2nd'''\n"
      ],
      "metadata": {
        "colab": {
          "base_uri": "https://localhost:8080/",
          "height": 36
        },
        "id": "R11b3l96rqcd",
        "outputId": "1b8638af-5c5c-4460-a37c-17695a52e621"
      },
      "execution_count": 4,
      "outputs": [
        {
          "output_type": "execute_result",
          "data": {
            "text/plain": [
              "'2nd'"
            ],
            "application/vnd.google.colaboratory.intrinsic+json": {
              "type": "string"
            }
          },
          "metadata": {},
          "execution_count": 4
        }
      ]
    },
    {
      "cell_type": "code",
      "source": [
        "import sys\n",
        "\n",
        "def factorial_recursive(n):\n",
        "    if n == 0 or n == 1:\n",
        "        return 1\n",
        "    else:\n",
        "        return n * factorial_recursive(n - 1)\n",
        "\n",
        "def factorial_iterative(n):\n",
        "    result = 1\n",
        "    for i in range(2, n + 1):\n",
        "        result *= i\n",
        "    return result\n",
        "\n",
        "if __name__ == \"__main__\":\n",
        "    print(\"Maximum recursion depth:\", sys.getrecursionlimit())\n",
        "\n",
        "    n = int(input(\"Enter a number for factorial: \"))\n",
        "\n",
        "    if n > 998:\n",
        "        print(\"⚠ Warning: Recursion may fail for n >\", 998)\n",
        "\n",
        "    try:\n",
        "        print(\"\\nRecursive Factorial Calculation:\")\n",
        "        rec_result = factorial_recursive(n)\n",
        "        print(f\"{n}! (recursive) = {rec_result}\")\n",
        "    except RecursionError:\n",
        "        print(\"❌ RecursionError: Maximum recursion depth exceeded!\")\n",
        "\n",
        "    print(\"\\nIterative Factorial Calculation:\")\n",
        "    it_result = factorial_iterative(n)\n",
        "    print(f\"{n}! (iterative) = {it_result}\")\n",
        "\n",
        "    if 'rec_result' in locals() and rec_result == it_result:\n",
        "        print(\"\\n✅ Both recursive and iterative results match.\")\n",
        "    else:\n",
        "        print(\"\\nℹ Iterative approach handled larger factorial successfully.\")\n"
      ],
      "metadata": {
        "colab": {
          "base_uri": "https://localhost:8080/"
        },
        "id": "Uf9ZDSQXr-El",
        "outputId": "3619065e-483d-4b22-f65c-183daa994194"
      },
      "execution_count": 5,
      "outputs": [
        {
          "output_type": "stream",
          "name": "stdout",
          "text": [
            "Maximum recursion depth: 1000\n",
            "Enter a number for factorial: 5\n",
            "\n",
            "Recursive Factorial Calculation:\n",
            "5! (recursive) = 120\n",
            "\n",
            "Iterative Factorial Calculation:\n",
            "5! (iterative) = 120\n",
            "\n",
            "✅ Both recursive and iterative results match.\n"
          ]
        }
      ]
    }
  ]
}