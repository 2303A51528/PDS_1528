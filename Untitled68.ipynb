{
  "nbformat": 4,
  "nbformat_minor": 0,
  "metadata": {
    "colab": {
      "provenance": [],
      "authorship_tag": "ABX9TyN8Nq1ERFM/fEX1A9SXHW6p",
      "include_colab_link": true
    },
    "kernelspec": {
      "name": "python3",
      "display_name": "Python 3"
    },
    "language_info": {
      "name": "python"
    }
  },
  "cells": [
    {
      "cell_type": "markdown",
      "metadata": {
        "id": "view-in-github",
        "colab_type": "text"
      },
      "source": [
        "<a href=\"https://colab.research.google.com/github/2303A51528/PDS_1528/blob/main/Untitled68.ipynb\" target=\"_parent\"><img src=\"https://colab.research.google.com/assets/colab-badge.svg\" alt=\"Open In Colab\"/></a>"
      ]
    },
    {
      "cell_type": "code",
      "execution_count": 9,
      "metadata": {
        "id": "MiAzRNb758VX"
      },
      "outputs": [],
      "source": [
        "fp=open(\"example.text\",\"w\")\n",
        "fp.write (\"hello,b.tech students!\\n\")\n",
        "fp.write(\"this is file handling in python.\\n\")\n",
        "fp.write(\"sr univesity\")\n",
        "fp.write(\"lohith\")\n",
        "fp.close()"
      ]
    },
    {
      "cell_type": "code",
      "source": [
        "file=open(\"example.text\",\"r\")\n",
        "print(file.read())\n",
        "file.close()"
      ],
      "metadata": {
        "colab": {
          "base_uri": "https://localhost:8080/"
        },
        "id": "Yuqr9UWu8MX4",
        "outputId": "96aa5623-7947-4ffd-cf8b-d8e0f3eb0988"
      },
      "execution_count": 14,
      "outputs": [
        {
          "output_type": "stream",
          "name": "stdout",
          "text": [
            "hello,b.tech students!\n",
            "this is file handling in python.\n",
            "sr univesitylohith\n"
          ]
        }
      ]
    },
    {
      "cell_type": "code",
      "source": [
        "file=open(\"example.text\",\"r\")\n",
        "line1=file.readline()\n",
        "print(line1)\n",
        "line2=file.readline()\n",
        "print(line2)\n",
        "line3=file.readline()\n",
        "print(line3)\n",
        "file.close()"
      ],
      "metadata": {
        "colab": {
          "base_uri": "https://localhost:8080/"
        },
        "id": "xZ-q2VLN-HsP",
        "outputId": "cc1ff100-4ea6-46d4-a7ad-0622340e4f7e"
      },
      "execution_count": 18,
      "outputs": [
        {
          "output_type": "stream",
          "name": "stdout",
          "text": [
            "hello,b.tech students!\n",
            "\n",
            "this is file handling in python.\n",
            "\n",
            "sr univesitylohith\n"
          ]
        }
      ]
    },
    {
      "cell_type": "code",
      "source": [
        "file=open(\"example.text\",\"r\")\n",
        "lines=file.readlines()\n",
        "print(lines)\n",
        "file.close"
      ],
      "metadata": {
        "colab": {
          "base_uri": "https://localhost:8080/"
        },
        "id": "1dIsIdzm-obZ",
        "outputId": "7cde8ec6-c1ef-4372-910b-e95854df7a80"
      },
      "execution_count": 19,
      "outputs": [
        {
          "output_type": "stream",
          "name": "stdout",
          "text": [
            "['hello,b.tech students!\\n', 'this is file handling in python.\\n', 'sr univesitylohith']\n"
          ]
        },
        {
          "output_type": "execute_result",
          "data": {
            "text/plain": [
              "<function TextIOWrapper.close()>"
            ]
          },
          "metadata": {},
          "execution_count": 19
        }
      ]
    },
    {
      "cell_type": "code",
      "source": [
        "#appending data to an existing file\n",
        "file=open(\"example.text\",\"a\")\n",
        "file.write(\"this is appended text\")\n",
        "file.close()"
      ],
      "metadata": {
        "id": "kfHIhS8c_n3t"
      },
      "execution_count": 20,
      "outputs": []
    },
    {
      "cell_type": "code",
      "source": [
        "with open(\"example.text\",\"r\") as fp:\n",
        "  data=fp.read()\n",
        "  print(data)\n"
      ],
      "metadata": {
        "colab": {
          "base_uri": "https://localhost:8080/"
        },
        "id": "Pcq38MUYANfG",
        "outputId": "f5b3ac8e-0930-4a53-cfa4-3cf68a553ed6"
      },
      "execution_count": 21,
      "outputs": [
        {
          "output_type": "stream",
          "name": "stdout",
          "text": [
            "hello,b.tech students!\n",
            "this is file handling in python.\n",
            "sr univesitylohiththis is appended text\n"
          ]
        }
      ]
    },
    {
      "cell_type": "code",
      "source": [
        "import csv\n",
        "\n",
        "with open(\"data.csv\",\"w\",newline='') as fp:\n",
        "  wr=csv.writer(fp)\n",
        "  wr.writerows([[\"name\",\"age\",\"course\"],[\"aaa\",21,\"cse\"],[\"bbb\",20,\"ece\"]])\n",
        "\n",
        "\n",
        "with open(\"data.csv\",\"r\")as file:\n",
        "  re=csv.reader(file)\n",
        "  for row in re:\n",
        "    print(row)"
      ],
      "metadata": {
        "colab": {
          "base_uri": "https://localhost:8080/"
        },
        "id": "Z3RA7MJ4BGdi",
        "outputId": "039e253d-d199-4108-d35b-ece809f8b3cf"
      },
      "execution_count": 30,
      "outputs": [
        {
          "output_type": "stream",
          "name": "stdout",
          "text": [
            "['name', 'age', 'course']\n",
            "['aaa', '21', 'cse']\n",
            "['bbb', '20', 'ece']\n"
          ]
        }
      ]
    },
    {
      "cell_type": "code",
      "source": [
        "import numpy as np\n",
        "\n",
        "arr1=np.array([1,2,3,4])\n",
        "print(\"1D Array:\",arr1)"
      ],
      "metadata": {
        "colab": {
          "base_uri": "https://localhost:8080/"
        },
        "id": "e41kIdoJDvun",
        "outputId": "9caf122f-d1fd-45e4-e7e7-b3f6f163364a"
      },
      "execution_count": 32,
      "outputs": [
        {
          "output_type": "stream",
          "name": "stdout",
          "text": [
            "1D Array: [1 2 3 4]\n"
          ]
        }
      ]
    },
    {
      "cell_type": "code",
      "source": [
        "arr2=np.array([[1,2,3],[4,5,6]])\n",
        "print(\"2D Array:\\n\",arr2)"
      ],
      "metadata": {
        "colab": {
          "base_uri": "https://localhost:8080/"
        },
        "id": "gc8gT984EuGY",
        "outputId": "8517d7d9-8286-4cfd-952c-35f05559293d"
      },
      "execution_count": 33,
      "outputs": [
        {
          "output_type": "stream",
          "name": "stdout",
          "text": [
            "2D Array:\n",
            " [[1 2 3]\n",
            " [4 5 6]]\n"
          ]
        }
      ]
    },
    {
      "cell_type": "code",
      "source": [
        "zeros_arr=np.zeros((3,3))\n",
        "print(\"Zeros Array:\\n\",zeros_arr)\n"
      ],
      "metadata": {
        "colab": {
          "base_uri": "https://localhost:8080/"
        },
        "id": "Msfpv_CfFGEa",
        "outputId": "f36285f3-d06a-4ff4-9170-0b073f96a1c7"
      },
      "execution_count": 36,
      "outputs": [
        {
          "output_type": "stream",
          "name": "stdout",
          "text": [
            "Zeros Array:\n",
            " [[0. 0. 0.]\n",
            " [0. 0. 0.]\n",
            " [0. 0. 0.]]\n"
          ]
        }
      ]
    },
    {
      "cell_type": "code",
      "source": [
        "ones_arr=np.ones((2,4))\n",
        "print(\"Ones Array:\\n\",ones_arr)"
      ],
      "metadata": {
        "colab": {
          "base_uri": "https://localhost:8080/"
        },
        "id": "LouXokVvFe07",
        "outputId": "0d06d994-2ab1-4612-de16-226ebe7610b7"
      },
      "execution_count": 37,
      "outputs": [
        {
          "output_type": "stream",
          "name": "stdout",
          "text": [
            "Ones Array:\n",
            " [[1. 1. 1. 1.]\n",
            " [1. 1. 1. 1.]]\n"
          ]
        }
      ]
    },
    {
      "cell_type": "code",
      "source": [
        "range_arr=np.arange(0,10,2)\n",
        "print(\"RangeArray:\",range_arr)"
      ],
      "metadata": {
        "colab": {
          "base_uri": "https://localhost:8080/"
        },
        "id": "Dm2R55L5FqTh",
        "outputId": "3e55da68-4353-4a29-8fb4-92e30e71f52e"
      },
      "execution_count": 38,
      "outputs": [
        {
          "output_type": "stream",
          "name": "stdout",
          "text": [
            "RangeArray: [0 2 4 6 8]\n"
          ]
        }
      ]
    },
    {
      "cell_type": "code",
      "source": [
        "rand_arr=np.random.rand(2,3)\n",
        "print(\"RandomArray:\\n\",rand_arr)"
      ],
      "metadata": {
        "colab": {
          "base_uri": "https://localhost:8080/"
        },
        "id": "txC25lo2F4QA",
        "outputId": "2c532a51-b41d-4096-acaf-6bc584c67e63"
      },
      "execution_count": 39,
      "outputs": [
        {
          "output_type": "stream",
          "name": "stdout",
          "text": [
            "RandomArray:\n",
            " [[0.83242964 0.16688332 0.137765  ]\n",
            " [0.52047114 0.64056903 0.384728  ]]\n"
          ]
        }
      ]
    },
    {
      "cell_type": "code",
      "source": [
        "arr=np.array([[1,2,3],[4,5,6]])\n",
        "\n",
        "print(\"Shape:\",arr.shape)\n",
        "print(\"Dimension:\",arr.ndim)\n",
        "print(\"Data Type:\",arr.dtype)\n",
        "print(\"Size:\",arr.size)\n",
        "print(\"Item Size:\",arr.itemsize)"
      ],
      "metadata": {
        "colab": {
          "base_uri": "https://localhost:8080/"
        },
        "id": "prLIIJzVHlFM",
        "outputId": "f2b2aec1-6c85-4aa6-f1c5-025bf61ee1a7"
      },
      "execution_count": 41,
      "outputs": [
        {
          "output_type": "stream",
          "name": "stdout",
          "text": [
            "Shape: (2, 3)\n",
            "Dimension: 2\n",
            "Data Type: int64\n",
            "Size: 6\n",
            "Item Size: 8\n"
          ]
        }
      ]
    },
    {
      "cell_type": "code",
      "source": [
        "arr=np.array([10,20,30,40,50])\n",
        "\n",
        "print(\"First element:\",arr[0])\n",
        "print(\"Last element:\",arr[-1])\n",
        "print(\"Slice [1:4]:\",arr[:4])\n",
        "print(\"Every second element:\",arr[::2])"
      ],
      "metadata": {
        "colab": {
          "base_uri": "https://localhost:8080/"
        },
        "id": "4AfHAHn_K97U",
        "outputId": "6fccc3a2-c7c5-4356-cf01-8c2fd5672554"
      },
      "execution_count": 42,
      "outputs": [
        {
          "output_type": "stream",
          "name": "stdout",
          "text": [
            "First element: 10\n",
            "Last element: 50\n",
            "Slice [1:4]: [10 20 30 40]\n",
            "Every second element: [10 30 50]\n"
          ]
        }
      ]
    },
    {
      "cell_type": "code",
      "source": [
        "arr2 = np.array([[1,2,3],[4,5,6]])\n",
        "print(\"Element at row 1, col2:\",arr2[0,1])\n",
        "print(\"Second row:\",arr2[1,:])\n",
        "print(\"Second column:\",arr2[:,1])"
      ],
      "metadata": {
        "colab": {
          "base_uri": "https://localhost:8080/"
        },
        "id": "qUTu9b-zMM1q",
        "outputId": "0735b3d6-6934-4f4d-8375-a13746882098"
      },
      "execution_count": 44,
      "outputs": [
        {
          "output_type": "stream",
          "name": "stdout",
          "text": [
            "Element at row 1, col2: 2\n",
            "Second row: [4 5 6]\n",
            "Second column: [2 5]\n"
          ]
        }
      ]
    },
    {
      "cell_type": "code",
      "source": [
        "#array operations\n",
        "a = np.array([1,2,3])\n",
        "b = np.array([4,5,6])\n",
        "print(a+b)\n",
        "print(a-b)\n",
        "print(a*b)\n",
        "print(a/b)\n",
        "print(a**b)"
      ],
      "metadata": {
        "colab": {
          "base_uri": "https://localhost:8080/"
        },
        "id": "PVPfhTApRLMC",
        "outputId": "da681c46-63aa-4001-9214-3884a8833858"
      },
      "execution_count": 45,
      "outputs": [
        {
          "output_type": "stream",
          "name": "stdout",
          "text": [
            "[5 7 9]\n",
            "[-3 -3 -3]\n",
            "[ 4 10 18]\n",
            "[0.25 0.4  0.5 ]\n",
            "[  1  32 729]\n"
          ]
        }
      ]
    },
    {
      "cell_type": "code",
      "source": [
        "array = np.array([[1,2,3],[4,5,6]])\n",
        "print(np.sum(array))\n",
        "print(np.sum(array,axis=0))\n",
        "print(np.sum(array,axis=1))\n",
        "print(np.sum(array))"
      ],
      "metadata": {
        "colab": {
          "base_uri": "https://localhost:8080/"
        },
        "id": "d-WGmSKQS4br",
        "outputId": "9245dd4f-21ce-411a-a2cc-b697bcf0856e"
      },
      "execution_count": 47,
      "outputs": [
        {
          "output_type": "stream",
          "name": "stdout",
          "text": [
            "21\n",
            "[5 7 9]\n",
            "[ 6 15]\n",
            "21\n"
          ]
        }
      ]
    },
    {
      "cell_type": "code",
      "source": [
        "#broadcasting\n",
        "a = np.array([1,2,3])\n",
        "b =5\n",
        "print(a+b)\n",
        "c = np.array([[1,2,3],[1,2,3]])\n",
        "d = np.array([4,5,6])\n",
        "print(c+d)"
      ],
      "metadata": {
        "colab": {
          "base_uri": "https://localhost:8080/"
        },
        "id": "wGP3wz8TThaa",
        "outputId": "423cdfc9-d484-46e2-8f48-2b18743c23df"
      },
      "execution_count": 48,
      "outputs": [
        {
          "output_type": "stream",
          "name": "stdout",
          "text": [
            "[6 7 8]\n",
            "[[5 7 9]\n",
            " [5 7 9]]\n"
          ]
        }
      ]
    },
    {
      "cell_type": "code",
      "source": [],
      "metadata": {
        "id": "PPogiGZCWtYx"
      },
      "execution_count": null,
      "outputs": []
    }
  ]
}