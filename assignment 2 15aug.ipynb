{
  "nbformat": 4,
  "nbformat_minor": 0,
  "metadata": {
    "colab": {
      "provenance": [],
      "authorship_tag": "ABX9TyP8rhXfsjpI5dEmwpZ7z4Fo",
      "include_colab_link": true
    },
    "kernelspec": {
      "name": "python3",
      "display_name": "Python 3"
    },
    "language_info": {
      "name": "python"
    }
  },
  "cells": [
    {
      "cell_type": "markdown",
      "metadata": {
        "id": "view-in-github",
        "colab_type": "text"
      },
      "source": [
        "<a href=\"https://colab.research.google.com/github/2303A51528/PDS_1528/blob/main/assignment%202%2015aug.ipynb\" target=\"_parent\"><img src=\"https://colab.research.google.com/assets/colab-badge.svg\" alt=\"Open In Colab\"/></a>"
      ]
    },
    {
      "cell_type": "code",
      "execution_count": 3,
      "metadata": {
        "colab": {
          "base_uri": "https://localhost:8080/"
        },
        "id": "AHyr7Ehtv2wK",
        "outputId": "187a1fc2-af62-49c6-ef86-3c79e6ab9eca"
      },
      "outputs": [
        {
          "output_type": "stream",
          "name": "stdout",
          "text": [
            "=== Orders DataFrame ===\n",
            "   Order_ID     Product  Quantity  Price  Total_Sale  Discount\n",
            "0       101      Laptop         2  50000      100000   20000.0\n",
            "1       102      Mobile         5  15000       75000   15000.0\n",
            "2       103      Laptop         1  52000       52000   10400.0\n",
            "3       104  Headphones        10   2000       20000    2000.0\n",
            "4       105      Mobile         3  16000       48000    7200.0\n",
            "5       106      Tablet         4  18000       72000   14400.0 \n",
            "\n",
            "=== Filtered Orders (Total_Sale > 1000) ===\n",
            "   Order_ID     Product  Quantity  Price  Total_Sale\n",
            "0       101      Laptop         2  50000      100000\n",
            "1       102      Mobile         5  15000       75000\n",
            "2       103      Laptop         1  52000       52000\n",
            "3       104  Headphones        10   2000       20000\n",
            "4       105      Mobile         3  16000       48000\n",
            "5       106      Tablet         4  18000       72000 \n",
            "\n",
            "=== Most Sold Product ===\n",
            "Headphones \n",
            "\n",
            "=== Summary by Product ===\n",
            "            Total_Quantity  Total_Sales  Total_Discount\n",
            "Product                                                \n",
            "Headphones              10        20000          2000.0\n",
            "Laptop                   3       152000         30400.0\n",
            "Mobile                   8       123000         22200.0\n",
            "Tablet                   4        72000         14400.0\n"
          ]
        }
      ],
      "source": [
        "import pandas as pd\n",
        "\n",
        "data = {\n",
        "    \"Order_ID\": [101, 102, 103, 104, 105, 106],\n",
        "    \"Product\": [\"Laptop\", \"Mobile\", \"Laptop\", \"Headphones\", \"Mobile\", \"Tablet\"],\n",
        "    \"Quantity\": [2, 5, 1, 10, 3, 4],\n",
        "    \"Price\": [50000, 15000, 52000, 2000, 16000, 18000]\n",
        "}\n",
        "df = pd.DataFrame(data)\n",
        "\n",
        "df[\"Total_Sale\"] = df[\"Quantity\"] * df[\"Price\"]\n",
        "filtered_orders = df[df[\"Total_Sale\"] > 1000]\n",
        "most_sold = df.groupby(\"Product\")[\"Quantity\"].sum().idxmax()\n",
        "\n",
        "def discount(sale):\n",
        "    if sale > 50000:\n",
        "        return 0.20 * sale\n",
        "    elif sale > 20000:\n",
        "        return 0.15 * sale\n",
        "    elif sale > 10000:\n",
        "        return 0.10 * sale\n",
        "    else:\n",
        "        return 0.05 * sale\n",
        "\n",
        "df[\"Discount\"] = df[\"Total_Sale\"].apply(discount)\n",
        "\n",
        "summary = df.groupby(\"Product\").agg(\n",
        "    Total_Quantity=(\"Quantity\", \"sum\"),\n",
        "    Total_Sales=(\"Total_Sale\", \"sum\"),\n",
        "    Total_Discount=(\"Discount\", \"sum\")\n",
        ")\n",
        "\n",
        "print(\"=== Orders DataFrame ===\")\n",
        "print(df, \"\\n\")\n",
        "\n",
        "print(\"=== Filtered Orders (Total_Sale > 1000) ===\")\n",
        "print(filtered_orders, \"\\n\")\n",
        "\n",
        "print(\"=== Most Sold Product ===\")\n",
        "print(most_sold, \"\\n\")\n",
        "\n",
        "print(\"=== Summary by Product ===\")\n",
        "print(summary)\n",
        "\n"
      ]
    },
    {
      "cell_type": "code",
      "source": [
        "'''2'''"
      ],
      "metadata": {
        "id": "qqZpm8JRwUKs"
      },
      "execution_count": null,
      "outputs": []
    },
    {
      "cell_type": "code",
      "source": [
        "import pandas as pd\n",
        "import matplotlib.pyplot as plt\n",
        "\n",
        "budget_data = {\n",
        "    \"Department\": [\"HR\", \"IT\", \"Finance\", \"Marketing\", \"Operations\"],\n",
        "    \"Budget\": [50000, 120000, 80000, 70000, 100000]\n",
        "}\n",
        "df_budget = pd.DataFrame(budget_data)\n",
        "\n",
        "expenses_data = {\n",
        "    \"Department\": [\"HR\", \"IT\", \"Finance\", \"Marketing\", \"Operations\"],\n",
        "    \"Expenses\": [55000, 110000, 90000, 65000, 120000]\n",
        "}\n",
        "df_expenses = pd.DataFrame(expenses_data)\n",
        "\n",
        "df = pd.merge(df_budget, df_expenses, on=\"Department\")\n",
        "df[\"Variance\"] = df[\"Budget\"] - df[\"Expenses\"]\n",
        "df[\"Exceed_Budget\"] = df[\"Variance\"] < 0\n",
        "df_sorted = df.sort_values(by=\"Variance\")\n",
        "\n",
        "print(\"=== Department Budget vs Actual Expenses ===\")\n",
        "print(df, \"\\n\")\n",
        "\n",
        "print(\"=== Departments Sorted by Variance ===\")\n",
        "print(df_sorted, \"\\n\")\n",
        "\n",
        "print(\"=== Departments Exceeding Budget ===\")\n",
        "print(df[df[\"Exceed_Budget\"]], \"\\n\")\n",
        "\n",
        "df.plot(x=\"Department\", y=[\"Budget\", \"Expenses\"], kind=\"bar\", figsize=(8,5))\n",
        "plt.title(\"Department Budget vs Expenses\")\n",
        "plt.ylabel(\"Amount\")\n",
        "plt.tight_layout()\n",
        "plt.show()\n"
      ],
      "metadata": {
        "colab": {
          "base_uri": "https://localhost:8080/",
          "height": 889
        },
        "id": "l_3DoRxZwV0M",
        "outputId": "72cbeaa1-be4b-4d17-f545-238dccf6ced0"
      },
      "execution_count": 4,
      "outputs": [
        {
          "output_type": "stream",
          "name": "stdout",
          "text": [
            "=== Department Budget vs Actual Expenses ===\n",
            "   Department  Budget  Expenses  Variance  Exceed_Budget\n",
            "0          HR   50000     55000     -5000           True\n",
            "1          IT  120000    110000     10000          False\n",
            "2     Finance   80000     90000    -10000           True\n",
            "3   Marketing   70000     65000      5000          False\n",
            "4  Operations  100000    120000    -20000           True \n",
            "\n",
            "=== Departments Sorted by Variance ===\n",
            "   Department  Budget  Expenses  Variance  Exceed_Budget\n",
            "4  Operations  100000    120000    -20000           True\n",
            "2     Finance   80000     90000    -10000           True\n",
            "0          HR   50000     55000     -5000           True\n",
            "3   Marketing   70000     65000      5000          False\n",
            "1          IT  120000    110000     10000          False \n",
            "\n",
            "=== Departments Exceeding Budget ===\n",
            "   Department  Budget  Expenses  Variance  Exceed_Budget\n",
            "0          HR   50000     55000     -5000           True\n",
            "2     Finance   80000     90000    -10000           True\n",
            "4  Operations  100000    120000    -20000           True \n",
            "\n"
          ]
        },
        {
          "output_type": "display_data",
          "data": {
            "text/plain": [
              "<Figure size 800x500 with 1 Axes>"
            ],
            "image/png": "[encoded data removed]"
          },
          "metadata": {}
        }
      ]
    }
  ]
}