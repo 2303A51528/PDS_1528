{
  "nbformat": 4,
  "nbformat_minor": 0,
  "metadata": {
    "colab": {
      "provenance": [],
      "authorship_tag": "ABX9TyMSXgTAvlgK143fA1u0ta3t",
      "include_colab_link": true
    },
    "kernelspec": {
      "name": "python3",
      "display_name": "Python 3"
    },
    "language_info": {
      "name": "python"
    }
  },
  "cells": [
    {
      "cell_type": "markdown",
      "metadata": {
        "id": "view-in-github",
        "colab_type": "text"
      },
      "source": [
        "<a href=\"https://colab.research.google.com/github/2303A51528/PDS_1528/blob/main/lab2%20assmnt.ipynb\" target=\"_parent\"><img src=\"https://colab.research.google.com/assets/colab-badge.svg\" alt=\"Open In Colab\"/></a>"
      ]
    },
    {
      "cell_type": "code",
      "execution_count": null,
      "metadata": {
        "id": "i0OOERq3MLnu"
      },
      "outputs": [],
      "source": []
    },
    {
      "cell_type": "code",
      "metadata": {
        "colab": {
          "base_uri": "https://localhost:8080/"
        },
        "id": "2d290f2a",
        "outputId": "799a5ebd-d819-4845-9b26-0f2b8f897424"
      },
      "source": [
        "import numpy as np\n",
        "student_marks = np.random.randint(0, 101, size=(10, 3))\n",
        "print(student_marks)"
      ],
      "execution_count": 1,
      "outputs": [
        {
          "output_type": "stream",
          "name": "stdout",
          "text": [
            "[[94 84 47]\n",
            " [22 97 14]\n",
            " [70 23  4]\n",
            " [50 34 62]\n",
            " [85 35 99]\n",
            " [31 31 49]\n",
            " [72 25 21]\n",
            " [ 5 82 44]\n",
            " [51  3 17]\n",
            " [22 78 34]]\n"
          ]
        }
      ]
    },
    {
      "cell_type": "code",
      "metadata": {
        "colab": {
          "base_uri": "https://localhost:8080/"
        },
        "id": "9db70d90",
        "outputId": "2419031f-e617-4f67-8973-3c7c8f84d66b"
      },
      "source": [
        "overall_average = np.mean(student_marks)\n",
        "overall_minimum = np.min(student_marks)\n",
        "overall_maximum = np.max(student_marks)\n",
        "print(f\"Overall Average Mark: {overall_average:.2f}\")\n",
        "print(f\"Overall Minimum Mark: {overall_minimum}\")\n",
        "print(f\"Overall Maximum Mark: {overall_maximum}\")"
      ],
      "execution_count": 3,
      "outputs": [
        {
          "output_type": "stream",
          "name": "stdout",
          "text": [
            "Overall Average Mark: 46.17\n",
            "Overall Minimum Mark: 3\n",
            "Overall Maximum Mark: 99\n"
          ]
        }
      ]
    },
    {
      "cell_type": "code",
      "source": [
        "first_three=student_marks[:3, :]\n",
        "print(\"Marks of the first three students:\")\n",
        "print(first_three_students_marks)\n",
        "student_at_index_5_marks = student_marks[5, :]\n",
        "print(\"\\nMarks of the student at index 5:\")\n",
        "print(student_at_index_5_marks)"
      ],
      "metadata": {
        "colab": {
          "base_uri": "https://localhost:8080/"
        },
        "id": "8vpxTfuyNPlT",
        "outputId": "e4bf46d3-55b0-4c73-9110-1338cfcd5794"
      },
      "execution_count": 6,
      "outputs": [
        {
          "output_type": "stream",
          "name": "stdout",
          "text": [
            "Marks of the first three students:\n",
            "[[94 84 47]\n",
            " [22 97 14]\n",
            " [70 23  4]]\n",
            "\n",
            "Marks of the student at index 5:\n",
            "[31 31 49]\n"
          ]
        }
      ]
    },
    {
      "cell_type": "code",
      "metadata": {
        "colab": {
          "base_uri": "https://localhost:8080/"
        },
        "id": "e5931540",
        "outputId": "830c7436-25eb-4e97-f04d-cda4cf64b255"
      },
      "source": [
        "high_scoring_students = student_marks[np.any(student_marks > 80, axis=1)]\n",
        "\n",
        "print(\"\\nStudents scoring above 80 in at least one subject:\")\n",
        "print(high_scoring_students)"
      ],
      "execution_count": 9,
      "outputs": [
        {
          "output_type": "stream",
          "name": "stdout",
          "text": [
            "\n",
            "Students scoring above 80 in at least one subject:\n",
            "[[94 84 47]\n",
            " [22 97 14]\n",
            " [85 35 99]\n",
            " [ 5 82 44]]\n"
          ]
        }
      ]
    },
    {
      "cell_type": "code",
      "metadata": {
        "colab": {
          "base_uri": "https://localhost:8080/"
        },
        "id": "c4dcf405",
        "outputId": "b97d0c3b-cbcd-40b7-b9ef-b3b1011df796"
      },
      "source": [
        "subject_wise_marks = student_marks.T\n",
        "\n",
        "print(\"\\nSubject-wise Marks Array (transposed):\")\n",
        "print(subject_wise_marks)\n",
        "subject_average_marks = np.mean(subject_wise_marks, axis=1)\n",
        "subject_minimum_marks = np.min(subject_wise_marks, axis=1)\n",
        "subject_maximum_marks = np.max(subject_wise_marks, axis=1)\n",
        "\n",
        "print(\"\\nSubject-wise Average Marks:\")\n",
        "print(subject_average_marks)\n",
        "\n",
        "print(\"\\nSubject-wise Minimum Marks:\")\n",
        "print(subject_minimum_marks)\n",
        "\n",
        "print(\"\\nSubject-wise Maximum Marks:\")\n",
        "print(subject_maximum_marks)"
      ],
      "execution_count": 8,
      "outputs": [
        {
          "output_type": "stream",
          "name": "stdout",
          "text": [
            "\n",
            "Subject-wise Marks Array (transposed):\n",
            "[[94 22 70 50 85 31 72  5 51 22]\n",
            " [84 97 23 34 35 31 25 82  3 78]\n",
            " [47 14  4 62 99 49 21 44 17 34]]\n",
            "\n",
            "Subject-wise Average Marks:\n",
            "[50.2 49.2 39.1]\n",
            "\n",
            "Subject-wise Minimum Marks:\n",
            "[5 3 4]\n",
            "\n",
            "Subject-wise Maximum Marks:\n",
            "[94 97 99]\n"
          ]
        }
      ]
    }
  ]
}