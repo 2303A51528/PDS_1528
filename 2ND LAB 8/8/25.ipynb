{
  "nbformat": 4,
  "nbformat_minor": 0,
  "metadata": {
    "colab": {
      "provenance": [],
      "authorship_tag": "ABX9TyNz4K2oKmD/iLWaWXZIe9NZ",
      "include_colab_link": true
    },
    "kernelspec": {
      "name": "python3",
      "display_name": "Python 3"
    },
    "language_info": {
      "name": "python"
    }
  },
  "cells": [
    {
      "cell_type": "markdown",
      "metadata": {
        "id": "view-in-github",
        "colab_type": "text"
      },
      "source": [
        "<a href=\"https://colab.research.google.com/github/2303A51528/PDS_1528/blob/main/2ND%20LAB%208/8/25.ipynb\" target=\"_parent\"><img src=\"https://colab.research.google.com/assets/colab-badge.svg\" alt=\"Open In Colab\"/></a>"
      ]
    },
    {
      "cell_type": "code",
      "execution_count": 10,
      "metadata": {
        "colab": {
          "base_uri": "https://localhost:8080/"
        },
        "id": "NPVlP_5h1Ksz",
        "outputId": "8a2b3552-420e-4a24-aefd-88578065604a"
      },
      "outputs": [
        {
          "output_type": "stream",
          "name": "stdout",
          "text": [
            "[10, 20, 30, 40]\n",
            "found\n",
            "[10, 20, 30, 40, 50]\n",
            "[10, 20, 40, 50]\n",
            "[10, 20, 25, 40, 50]\n",
            "[10, 20, 25, 40]\n",
            "[40, 25, 20, 10]\n",
            "95\n",
            "10\n",
            "[[20, 30], [50, 60], [23, 45], [76, 87]]\n",
            "\n",
            "Student:\n",
            "[[20 30]\n",
            " [50 60]\n",
            " [23 45]\n",
            " [76 87]]\n"
          ]
        }
      ],
      "source": [
        "l=[10,20,30,40]\n",
        "print(l)\n",
        "if 20 in l:\n",
        "  print(\"found\")\n",
        "l.append(50)\n",
        "print(l)\n",
        "l.remove(30)\n",
        "print(l)\n",
        "l.insert(2,25)\n",
        "print(l)\n",
        "l.pop()\n",
        "print(l)\n",
        "l.sort()\n",
        "l.reverse()\n",
        "print(l)\n",
        "print(sum(l))\n",
        "\n",
        "\n",
        "print(min(l))\n",
        "student=[[20,30],[50,60],[23,45],[76,87]]\n",
        "print(student)\n",
        "\n",
        "import numpy as np\n",
        "\n",
        "student = np.array(student)\n",
        "print(\"\\nStudent:\")\n",
        "print(student)\n"
      ]
    },
    {
      "cell_type": "code",
      "source": [
        "t = (10,3,24,25,26)\n",
        "\n",
        "print(t)\n",
        "\n",
        "t = (10,3,24,25,24,26)\n",
        "print(t)\n",
        "for i in t :\n",
        "  print(type(i),i)\n",
        "if 20 in t:\n",
        "  print(\"found\")\n",
        "else:\n",
        "  print(\"not found\")\n",
        "t = (10,3,24,25,24,26)\n",
        "print(t.count(25))\n",
        "print(t.index(24))\n",
        "l = [10,20,30,40,]\n",
        "mytuple = tuple(l)\n",
        "print(mytuple)\n",
        "student = ((20,30),(34,45),(67,78))\n",
        "print(student)\n",
        "\n",
        "\n"
      ],
      "metadata": {
        "colab": {
          "base_uri": "https://localhost:8080/"
        },
        "id": "G770uzcD89Dd",
        "outputId": "9be197a9-4926-4e69-e62a-7159b218d2dd"
      },
      "execution_count": 11,
      "outputs": [
        {
          "output_type": "stream",
          "name": "stdout",
          "text": [
            "(10, 3, 24, 25, 26)\n",
            "(10, 3, 24, 25, 24, 26)\n",
            "<class 'int'> 10\n",
            "<class 'int'> 3\n",
            "<class 'int'> 24\n",
            "<class 'int'> 25\n",
            "<class 'int'> 24\n",
            "<class 'int'> 26\n",
            "dorakale\n",
            "1\n",
            "2\n",
            "(10, 20, 30, 40)\n",
            "((20, 30), (34, 45), (67, 78))\n"
          ]
        }
      ]
    },
    {
      "cell_type": "code",
      "source": [
        "student={\"name\":\"python\",\"id\":\"101\",\"branch\":\"cse\"}\n",
        "print(student.keys())\n",
        "print(student.values())\n",
        "print(student.items())\n",
        "print(student[\"name\"])\n"
      ],
      "metadata": {
        "colab": {
          "base_uri": "https://localhost:8080/"
        },
        "id": "MbmtpEEsBQCw",
        "outputId": "1ead6433-e1d0-4488-8c18-8901bcde4b39"
      },
      "execution_count": 18,
      "outputs": [
        {
          "output_type": "stream",
          "name": "stdout",
          "text": [
            "dict_keys(['name', 'id', 'branch'])\n",
            "dict_values(['python', '101', 'cse'])\n",
            "dict_items([('name', 'python'), ('id', '101'), ('branch', 'cse')])\n",
            "python\n"
          ]
        }
      ]
    },
    {
      "cell_type": "code",
      "source": [
        "s = {1,2,3,4,6}\n",
        "print(s)\n",
        "s = {1,2,3,2,3,2}\n",
        "print(s)\n",
        "for i in s:\n",
        "  print(i)\n",
        "if 2 in s:\n",
        "  print(\"FOUND\")\n",
        "else:\n",
        "  print(\"NOT FOUNDe\")\n",
        "s = {1,12,13}\n",
        "print(sum(s))\n",
        "s.add(4)\n",
        "print(s)\n",
        "s = {1,2,3,4,6}\n",
        "s.remove(2)\n",
        "print(s)\n",
        "s.clear()\n",
        "print(s)\n",
        "\n",
        "\n",
        "\n",
        "\n"
      ],
      "metadata": {
        "colab": {
          "base_uri": "https://localhost:8080/"
        },
        "id": "_qhtj4S8F2Wy",
        "outputId": "50562f6c-82d9-4834-f9b4-f3cf251e25dd"
      },
      "execution_count": 19,
      "outputs": [
        {
          "output_type": "stream",
          "name": "stdout",
          "text": [
            "{1, 2, 3, 4, 6}\n",
            "{1, 2, 3}\n",
            "1\n",
            "2\n",
            "3\n",
            "FOUND\n",
            "26\n",
            "{1, 4, 12, 13}\n",
            "{1, 3, 4, 6}\n",
            "set()\n"
          ]
        }
      ]
    }
  ]
}