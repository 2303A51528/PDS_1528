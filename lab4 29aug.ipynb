{
  "nbformat": 4,
  "nbformat_minor": 0,
  "metadata": {
    "colab": {
      "provenance": [],
      "authorship_tag": "ABX9TyMn04Ep04hisSXJgzINewhd",
      "include_colab_link": true
    },
    "kernelspec": {
      "name": "python3",
      "display_name": "Python 3"
    },
    "language_info": {
      "name": "python"
    }
  },
  "cells": [
    {
      "cell_type": "markdown",
      "metadata": {
        "id": "view-in-github",
        "colab_type": "text"
      },
      "source": [
        "<a href=\"https://colab.research.google.com/github/2303A51528/PDS_1528/blob/main/lab4%2029aug.ipynb\" target=\"_parent\"><img src=\"https://colab.research.google.com/assets/colab-badge.svg\" alt=\"Open In Colab\"/></a>"
      ]
    },
    {
      "cell_type": "code",
      "execution_count": 1,
      "metadata": {
        "colab": {
          "base_uri": "https://localhost:8080/"
        },
        "id": "3gGAoFlX9ReV",
        "outputId": "ad44bcac-08a9-4a85-fd70-0bce180be3e6"
      },
      "outputs": [
        {
          "output_type": "stream",
          "name": "stdout",
          "text": [
            "pandas series:\n",
            "0    10\n",
            "1    20\n",
            "2    30\n",
            "3    40\n",
            "4    50\n",
            "dtype: int64\n"
          ]
        }
      ],
      "source": [
        "import pandas as pd\n",
        "d = [10,20,30,40,50]\n",
        "series = pd.Series(d)\n",
        "print(\"pandas series:\")\n",
        "print(series)"
      ]
    },
    {
      "cell_type": "code",
      "source": [
        "#custom Index\n",
        "d = [10,20,30,40,50]\n",
        "index_values = ['a','b','c','d','e']\n",
        "series = pd.Series(data=d,index=index_values)\n",
        "series"
      ],
      "metadata": {
        "colab": {
          "base_uri": "https://localhost:8080/",
          "height": 241
        },
        "id": "3LoGH_nF-1ui",
        "outputId": "0e92ed9f-c083-4e9d-9738-7adb2829153f"
      },
      "execution_count": 2,
      "outputs": [
        {
          "output_type": "execute_result",
          "data": {
            "text/plain": [
              "a    10\n",
              "b    20\n",
              "c    30\n",
              "d    40\n",
              "e    50\n",
              "dtype: int64"
            ],
            "text/html": [
              "<div>\n",
              "<style scoped>\n",
              "    .dataframe tbody tr th:only-of-type {\n",
              "        vertical-align: middle;\n",
              "    }\n",
              "\n",
              "    .dataframe tbody tr th {\n",
              "        vertical-align: top;\n",
              "    }\n",
              "\n",
              "    .dataframe thead th {\n",
              "        text-align: right;\n",
              "    }\n",
              "</style>\n",
              "<table border=\"1\" class=\"dataframe\">\n",
              "  <thead>\n",
              "    <tr style=\"text-align: right;\">\n",
              "      <th></th>\n",
              "      <th>0</th>\n",
              "    </tr>\n",
              "  </thead>\n",
              "  <tbody>\n",
              "    <tr>\n",
              "      <th>a</th>\n",
              "      <td>10</td>\n",
              "    </tr>\n",
              "    <tr>\n",
              "      <th>b</th>\n",
              "      <td>20</td>\n",
              "    </tr>\n",
              "    <tr>\n",
              "      <th>c</th>\n",
              "      <td>30</td>\n",
              "    </tr>\n",
              "    <tr>\n",
              "      <th>d</th>\n",
              "      <td>40</td>\n",
              "    </tr>\n",
              "    <tr>\n",
              "      <th>e</th>\n",
              "      <td>50</td>\n",
              "    </tr>\n",
              "  </tbody>\n",
              "</table>\n",
              "</div><br><label><b>dtype:</b> int64</label>"
            ]
          },
          "metadata": {},
          "execution_count": 2
        }
      ]
    },
    {
      "cell_type": "code",
      "source": [
        "#creating a dataframe\n",
        "data = {\n",
        "    'Name':['Alice','bob','Charlie','david'],\n",
        "    'Age':[25,30,22,40],\n",
        "    'City':['New York','San Francisco','Los Angeles','hydrabad']\n",
        "}\n",
        "df = pd.DataFrame(data)\n",
        "print(df)"
      ],
      "metadata": {
        "colab": {
          "base_uri": "https://localhost:8080/"
        },
        "id": "dq98f16nAEOY",
        "outputId": "717b1a11-f472-4db2-b903-c9d7845f5e09"
      },
      "execution_count": 4,
      "outputs": [
        {
          "output_type": "stream",
          "name": "stdout",
          "text": [
            "      Name  Age           City\n",
            "0    Alice   25       New York\n",
            "1      bob   30  San Francisco\n",
            "2  Charlie   22    Los Angeles\n",
            "3    david   40       hydrabad\n"
          ]
        }
      ]
    },
    {
      "cell_type": "code",
      "source": [
        "#accesing data\n",
        "print(df['Name'])"
      ],
      "metadata": {
        "colab": {
          "base_uri": "https://localhost:8080/"
        },
        "id": "Mss1iZajAMpp",
        "outputId": "419f028f-c986-4a1e-d8a2-cc32c43e1078"
      },
      "execution_count": 5,
      "outputs": [
        {
          "output_type": "stream",
          "name": "stdout",
          "text": [
            "0      Alice\n",
            "1        bob\n",
            "2    Charlie\n",
            "3      david\n",
            "Name: Name, dtype: object\n"
          ]
        }
      ]
    },
    {
      "cell_type": "code",
      "source": [
        "#Accessing multiple columns\n",
        "print(df[['Name','Age']])"
      ],
      "metadata": {
        "colab": {
          "base_uri": "https://localhost:8080/"
        },
        "id": "ltPYcsI5AQH1",
        "outputId": "b6ec12b6-1757-4f8d-8c78-9aea47543ef0"
      },
      "execution_count": 6,
      "outputs": [
        {
          "output_type": "stream",
          "name": "stdout",
          "text": [
            "      Name  Age\n",
            "0    Alice   25\n",
            "1      bob   30\n",
            "2  Charlie   22\n",
            "3    david   40\n"
          ]
        }
      ]
    },
    {
      "cell_type": "code",
      "source": [
        "#accesoing rows using index\n",
        "print(df.loc[0])\n",
        "print(df.loc[1])"
      ],
      "metadata": {
        "colab": {
          "base_uri": "https://localhost:8080/"
        },
        "id": "LQzUF00uAT2i",
        "outputId": "afd4dc70-7f68-4e76-fb79-66647e9ecb00"
      },
      "execution_count": 7,
      "outputs": [
        {
          "output_type": "stream",
          "name": "stdout",
          "text": [
            "Name       Alice\n",
            "Age           25\n",
            "City    New York\n",
            "Name: 0, dtype: object\n",
            "Name              bob\n",
            "Age                30\n",
            "City    San Francisco\n",
            "Name: 1, dtype: object\n"
          ]
        }
      ]
    },
    {
      "cell_type": "code",
      "source": [
        "#adding new column\n",
        "df['salary'] = [10000,20000,30000,40000]\n",
        "print(df)"
      ],
      "metadata": {
        "colab": {
          "base_uri": "https://localhost:8080/"
        },
        "id": "mJj5N83IAXR2",
        "outputId": "1e6d5d29-c191-41f6-b5aa-8584c60b6138"
      },
      "execution_count": 8,
      "outputs": [
        {
          "output_type": "stream",
          "name": "stdout",
          "text": [
            "      Name  Age           City  salary\n",
            "0    Alice   25       New York   10000\n",
            "1      bob   30  San Francisco   20000\n",
            "2  Charlie   22    Los Angeles   30000\n",
            "3    david   40       hydrabad   40000\n"
          ]
        }
      ]
    },
    {
      "cell_type": "code",
      "source": [
        "df = df.drop('salary',axis=1)\n",
        "print(df)"
      ],
      "metadata": {
        "colab": {
          "base_uri": "https://localhost:8080/"
        },
        "id": "Ey5wvN9aAhEZ",
        "outputId": "2be43e48-01e9-45bc-9fb2-9c03e3b7ff8b"
      },
      "execution_count": 9,
      "outputs": [
        {
          "output_type": "stream",
          "name": "stdout",
          "text": [
            "      Name  Age           City\n",
            "0    Alice   25       New York\n",
            "1      bob   30  San Francisco\n",
            "2  Charlie   22    Los Angeles\n",
            "3    david   40       hydrabad\n"
          ]
        }
      ]
    },
    {
      "cell_type": "code",
      "source": [
        "#select rows where age>30\n",
        "print(df[df['Age']>30])"
      ],
      "metadata": {
        "colab": {
          "base_uri": "https://localhost:8080/"
        },
        "id": "WlPiYuTcBFHF",
        "outputId": "0f52bc1c-4846-4ae1-c7b2-aa7678c997f5"
      },
      "execution_count": 11,
      "outputs": [
        {
          "output_type": "stream",
          "name": "stdout",
          "text": [
            "    Name  Age      City\n",
            "3  david   40  hydrabad\n"
          ]
        }
      ]
    },
    {
      "cell_type": "code",
      "source": [
        "print(df['Age'].mean())\n",
        "print(df['Age'].max())\n",
        "print(df['Age'].min())"
      ],
      "metadata": {
        "colab": {
          "base_uri": "https://localhost:8080/"
        },
        "id": "85ktYPIzBXuM",
        "outputId": "30c251dd-8bfa-4421-adfa-0e2f6e97cdc7"
      },
      "execution_count": 13,
      "outputs": [
        {
          "output_type": "stream",
          "name": "stdout",
          "text": [
            "29.25\n",
            "40\n",
            "22\n"
          ]
        }
      ]
    },
    {
      "cell_type": "code",
      "source": [
        "#create a dataframe with student details\n",
        "student_data={\n",
        "    'student_id':[101,102,103,104,105],\n",
        "    'name':['Alice','Bob','Charlie','David','Eva'],\n",
        "    'marks':[85,92,78,95,88],\n",
        "    'department':['Computer Science','Engineering','Arts','Science','Business']\n",
        "}\n",
        "df=pd.DataFrame(student_data)\n",
        "print(\"student data:\")\n",
        "print(df)\n"
      ],
      "metadata": {
        "colab": {
          "base_uri": "https://localhost:8080/"
        },
        "id": "pkqEgg5-Cn9P",
        "outputId": "06ff4e56-3e19-46c7-b94d-bdf5738876d2"
      },
      "execution_count": 15,
      "outputs": [
        {
          "output_type": "stream",
          "name": "stdout",
          "text": [
            "student data:\n",
            "   student_id     name  marks        department\n",
            "0         101    Alice     85  Computer Science\n",
            "1         102      Bob     92       Engineering\n",
            "2         103  Charlie     78              Arts\n",
            "3         104    David     95           Science\n",
            "4         105      Eva     88          Business\n"
          ]
        }
      ]
    },
    {
      "cell_type": "code",
      "source": [
        "student_data={\n",
        "    'sstudent_id':[101,102,103,104,105],\n",
        "    'sname':['Alice','Bob','Charlie','David','Eva'],\n",
        "    'M1': [85, 92, 78, 95, 88],\n",
        "    'M2': [80, 90, 75, 89, 84],\n",
        "    'M3': [88, 85, 79, 94, 90]\n",
        "}\n",
        "df=pd.DataFrame(student_data)\n",
        "\n",
        "df['TOTAL'] = df[['M1', 'M2', 'M3']].sum(axis=1)\n",
        "df['AVG'] = df[['M1', 'M2', 'M3']].mean(axis=1)\n",
        "\n",
        "print(\"student data:\")\n",
        "print(df)"
      ],
      "metadata": {
        "colab": {
          "base_uri": "https://localhost:8080/"
        },
        "id": "vKEFPdzcE9SR",
        "outputId": "21f5400e-dbcc-46cb-9131-af7071f03244"
      },
      "execution_count": 17,
      "outputs": [
        {
          "output_type": "stream",
          "name": "stdout",
          "text": [
            "student data:\n",
            "   sstudent_id    sname  M1  M2  M3  TOTAL        AVG\n",
            "0          101    Alice  85  80  88    253  84.333333\n",
            "1          102      Bob  92  90  85    267  89.000000\n",
            "2          103  Charlie  78  75  79    232  77.333333\n",
            "3          104    David  95  89  94    278  92.666667\n",
            "4          105      Eva  88  84  90    262  87.333333\n"
          ]
        }
      ]
    }
  ]
}