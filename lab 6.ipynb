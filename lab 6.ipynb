{
  "nbformat": 4,
  "nbformat_minor": 0,
  "metadata": {
    "colab": {
      "provenance": [],
      "authorship_tag": "ABX9TyOXZ4n7/3MybP9giqb7Rnmp",
      "include_colab_link": true
    },
    "kernelspec": {
      "name": "python3",
      "display_name": "Python 3"
    },
    "language_info": {
      "name": "python"
    }
  },
  "cells": [
    {
      "cell_type": "markdown",
      "metadata": {
        "id": "view-in-github",
        "colab_type": "text"
      },
      "source": [
        "<a href=\"https://colab.research.google.com/github/2303A51528/PDS_1528/blob/main/lab%206.ipynb\" target=\"_parent\"><img src=\"https://colab.research.google.com/assets/colab-badge.svg\" alt=\"Open In Colab\"/></a>"
      ]
    },
    {
      "cell_type": "code",
      "execution_count": 7,
      "metadata": {
        "colab": {
          "base_uri": "https://localhost:8080/"
        },
        "id": "ERTrwwm1FFGB",
        "outputId": "0a72b6b2-47c3-4781-f1d2-2032f8950a05"
      },
      "outputs": [
        {
          "output_type": "stream",
          "name": "stdout",
          "text": [
            "original dataframe:\n",
            "    name   age  marks\n",
            "0   ravi  25.0   85.0\n",
            "1   neha   NaN   90.0\n",
            "2  kiran  30.0    NaN\n",
            "3   sita  28.0   92.0\n",
            "\n",
            "check for missing values:\n",
            "    name    age  marks\n",
            "0  False  False  False\n",
            "1  False   True  False\n",
            "2  False  False   True\n",
            "3  False  False  False\n",
            "\n",
            "fill missing values with zero:\n",
            "    name   age  marks\n",
            "0   ravi  25.0   85.0\n",
            "1   neha   0.0   90.0\n",
            "2  kiran  30.0    0.0\n",
            "3   sita  28.0   92.0\n",
            "\n",
            "drop rows with missing values:\n",
            "   name   age  marks\n",
            "0  ravi  25.0   85.0\n",
            "3  sita  28.0   92.0\n",
            "after droping rows in nan:\n",
            "   name   age  marks\n",
            "0  ravi  25.0   85.0\n",
            "3  sita  28.0   92.0\n"
          ]
        }
      ],
      "source": [
        "import pandas as pd\n",
        "import numpy as np\n",
        "\n",
        "data={'name':['ravi','neha','kiran','sita'],'age':[25,np.nan,30,28],'marks':[85,90,np.nan,92]}\n",
        "\n",
        "df=pd.DataFrame(data)\n",
        "print(\"original dataframe:\")\n",
        "print(df)\n",
        "\n",
        "print(\"\\ncheck for missing values:\")\n",
        "print(df.isnull())\n",
        "\n",
        "print(\"\\nfill missing values with zero:\")\n",
        "df_filled=df.fillna(0)\n",
        "print(df_filled)\n",
        "\n",
        "print(\"\\ndrop rows with missing values:\")\n",
        "df_dropped = df.dropna()\n",
        "print(df_dropped)\n",
        "print(\"after droping rows in nan:\")\n",
        "print(df_dropped)"
      ]
    },
    {
      "cell_type": "code",
      "source": [
        "df_filled=df.fillna(0)\n",
        "print(\"Filled with 0:\")\n",
        "print(df_filled)"
      ],
      "metadata": {
        "colab": {
          "base_uri": "https://localhost:8080/"
        },
        "id": "o1mjAn8hH6vq",
        "outputId": "6f47fe85-5dd4-4f1e-8a4b-251dc7024800"
      },
      "execution_count": 8,
      "outputs": [
        {
          "output_type": "stream",
          "name": "stdout",
          "text": [
            "Filled with 0:\n",
            "    name   age  marks\n",
            "0   ravi  25.0   85.0\n",
            "1   neha   0.0   90.0\n",
            "2  kiran  30.0    0.0\n",
            "3   sita  28.0   92.0\n"
          ]
        }
      ]
    },
    {
      "cell_type": "code",
      "source": [
        "df['age']=df['age'].fillna(df['age'].mean())\n",
        "df['marks']=df['marks'].fillna(df['marks'].mean())\n",
        "print(\"Filled with mean:\")\n",
        "print(df)"
      ],
      "metadata": {
        "colab": {
          "base_uri": "https://localhost:8080/"
        },
        "id": "dg1GVbkNIniZ",
        "outputId": "fa101853-2598-4418-ef1d-d26aa2acb1f1"
      },
      "execution_count": 10,
      "outputs": [
        {
          "output_type": "stream",
          "name": "stdout",
          "text": [
            "Filled with mean:\n",
            "    name        age  marks\n",
            "0   ravi  25.000000   85.0\n",
            "1   neha  27.666667   90.0\n",
            "2  kiran  30.000000   89.0\n",
            "3   sita  28.000000   92.0\n"
          ]
        }
      ]
    },
    {
      "cell_type": "code",
      "source": [
        "#Handling Duplicates\n",
        "data = {'name': ['ravi', 'neha', 'kiran', 'sita', 'ravi'],\n",
        "        'age': [25, 28, 30, 28, 25],\n",
        "        'marks': [85, 90, 92, 90, 85]}\n",
        "df = pd.DataFrame(data)\n",
        "print(\"Original DataFrame:\")\n",
        "print(df)\n",
        "print(\"\\nCheck for duplicate rows:\")\n",
        "print(df.duplicated())\n",
        "print(\"\\nDrop duplicate rows:\")\n",
        "df_dropped = df.drop_duplicates()\n",
        "print(df_dropped)"
      ],
      "metadata": {
        "colab": {
          "base_uri": "https://localhost:8080/"
        },
        "id": "_zj4Lq2bKfwm",
        "outputId": "d63b265d-c660-4449-8e43-b5f7ebc1cb49"
      },
      "execution_count": 14,
      "outputs": [
        {
          "output_type": "stream",
          "name": "stdout",
          "text": [
            "Original DataFrame:\n",
            "    name  age  marks\n",
            "0   ravi   25     85\n",
            "1   neha   28     90\n",
            "2  kiran   30     92\n",
            "3   sita   28     90\n",
            "4   ravi   25     85\n",
            "\n",
            "Check for duplicate rows:\n",
            "0    False\n",
            "1    False\n",
            "2    False\n",
            "3    False\n",
            "4     True\n",
            "dtype: bool\n",
            "\n",
            "Drop duplicate rows:\n",
            "    name  age  marks\n",
            "0   ravi   25     85\n",
            "1   neha   28     90\n",
            "2  kiran   30     92\n",
            "3   sita   28     90\n"
          ]
        }
      ]
    },
    {
      "cell_type": "code",
      "source": [
        "#data transformation\n",
        "data={'id':['1','2','3','4'],'marks':['85','90','78','92']}\n",
        "\n",
        "df=pd.DataFrame(data)\n",
        "print(\"original datatypes:\")\n",
        "print(df.dtypes)\n",
        "\n",
        "df['id']=pd.to_numeric(df['id'])\n",
        "df['marks']=pd.to_numeric(df['marks'])\n",
        "\n",
        "print(\"\\nAfter data type conversion:\")\n",
        "print(df.dtypes)"
      ],
      "metadata": {
        "colab": {
          "base_uri": "https://localhost:8080/"
        },
        "id": "Ukp3gHJmK087",
        "outputId": "7d0ed8b4-62b1-4d22-f53d-8eff5eb56591"
      },
      "execution_count": 18,
      "outputs": [
        {
          "output_type": "stream",
          "name": "stdout",
          "text": [
            "original datatypes:\n",
            "id       object\n",
            "marks    object\n",
            "dtype: object\n",
            "\n",
            "After data type conversion:\n",
            "id       int64\n",
            "marks    int64\n",
            "dtype: object\n"
          ]
        }
      ]
    },
    {
      "cell_type": "code",
      "source": [
        "#apply transformation-add 5 bonus marks\n",
        "df['bonus']=df['marks'].apply(lambda x:x+5)\n",
        "print(\"\\nAfter adding bonus marks:\")\n",
        "print(df)"
      ],
      "metadata": {
        "colab": {
          "base_uri": "https://localhost:8080/"
        },
        "id": "cuIUVKSKMcG9",
        "outputId": "403e8c95-b970-47e9-92a1-8dd0b568a83a"
      },
      "execution_count": 19,
      "outputs": [
        {
          "output_type": "stream",
          "name": "stdout",
          "text": [
            "\n",
            "After adding bonus marks:\n",
            "   id  marks  bonus\n",
            "0   1     85     90\n",
            "1   2     90     95\n",
            "2   3     78     83\n",
            "3   4     92     97\n"
          ]
        }
      ]
    },
    {
      "cell_type": "code",
      "source": [
        "#student details(index-student_id)\n",
        "data={'name':['ravi','neha','kiran','sita']}\n",
        "index=[101,102,103,104]\n",
        "students = pd.DataFrame(data, index=index)\n",
        "\n",
        "\n",
        "#marks data(index=student_id)\n",
        "marks_data={'marks':[85,90,78,92]}\n",
        "marks_index=[101,102,103,104]\n",
        "marks = pd.DataFrame(marks_data, index=marks_index)\n",
        "\n",
        "\n",
        "#join based on index\n",
        "joined_df=students.join(marks,how='outer')\n",
        "print(joined_df)"
      ],
      "metadata": {
        "colab": {
          "base_uri": "https://localhost:8080/"
        },
        "id": "pLl8JVwlUn8D",
        "outputId": "4d3d81c8-45a8-47e3-876f-dce718e24533"
      },
      "execution_count": 24,
      "outputs": [
        {
          "output_type": "stream",
          "name": "stdout",
          "text": [
            "      name  marks\n",
            "101   ravi     85\n",
            "102   neha     90\n",
            "103  kiran     78\n",
            "104   sita     92\n"
          ]
        }
      ]
    }
  ]
}